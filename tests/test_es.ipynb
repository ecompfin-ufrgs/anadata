{
 "cells": [
  {
   "cell_type": "markdown",
   "id": "3d3291b8-7b1b-47cd-8d3b-8569fdd31aeb",
   "metadata": {},
   "source": [
    "# Módulo de entrada e saída de dados (es)\n",
    "\n",
    "O módulo proverá uma função para leitura da API do Bacen e para produção dos gráficos."
   ]
  },
  {
   "cell_type": "code",
   "execution_count": 1,
   "id": "c53b0534-9ad6-4b99-9c68-5f9755e95350",
   "metadata": {},
   "outputs": [],
   "source": [
    "# Função para consumo da API do Bacen\n",
    "\n",
    "import numpy as np\n",
    "import pandas as pd\n",
    "\n",
    "def leitor_dados(arquivo: str) -> pd.DataFrame:\n",
    "    pass\n"
   ]
  },
  {
   "cell_type": "code",
   "execution_count": 8,
   "id": "d322605c-4b49-40bb-928d-221bfe87abb3",
   "metadata": {},
   "outputs": [],
   "source": [
    "url = \"https://dados.tce.rs.gov.br/dados/municipal/balancete-despesa/2023.csv\"\n",
    "dados = pd.read_csv(url)"
   ]
  },
  {
   "cell_type": "code",
   "execution_count": 7,
   "id": "a6ae6c59-c7e7-42f4-852a-8ee4c93e56e0",
   "metadata": {},
   "outputs": [
    {
     "data": {
      "text/html": [
       "<div>\n",
       "<style scoped>\n",
       "    .dataframe tbody tr th:only-of-type {\n",
       "        vertical-align: middle;\n",
       "    }\n",
       "\n",
       "    .dataframe tbody tr th {\n",
       "        vertical-align: top;\n",
       "    }\n",
       "\n",
       "    .dataframe thead th {\n",
       "        text-align: right;\n",
       "    }\n",
       "</style>\n",
       "<table border=\"1\" class=\"dataframe\">\n",
       "  <thead>\n",
       "    <tr style=\"text-align: right;\">\n",
       "      <th></th>\n",
       "      <th>ANO</th>\n",
       "      <th>MES</th>\n",
       "      <th>COD_MUNICIPIO</th>\n",
       "      <th>NOME_MUNICIPIO</th>\n",
       "      <th>CD_ORGAO</th>\n",
       "      <th>NOME_ORGAO</th>\n",
       "      <th>CD_RECEBIMENTO</th>\n",
       "      <th>CD_ORGAO_ORCAMENTARIO</th>\n",
       "      <th>NOME_ORGAO_ORCAMENTARIO</th>\n",
       "      <th>CD_UNIDADE_ORCAMENTARIA</th>\n",
       "      <th>...</th>\n",
       "      <th>VL_REDUCAO_RECURSO</th>\n",
       "      <th>VL_TRANSFERENCIA</th>\n",
       "      <th>VL_TRANSPOSICAO</th>\n",
       "      <th>VL_REMANEJAMENTO</th>\n",
       "      <th>VL_EMPENHADO</th>\n",
       "      <th>VL_LIQUIDADO</th>\n",
       "      <th>VL_PAGO</th>\n",
       "      <th>VL_LIMITADO</th>\n",
       "      <th>VL_RECOMPOSICAO</th>\n",
       "      <th>VL_PREVISAO_EXECUCAO</th>\n",
       "    </tr>\n",
       "  </thead>\n",
       "  <tbody>\n",
       "    <tr>\n",
       "      <th>0</th>\n",
       "      <td>2023</td>\n",
       "      <td>1</td>\n",
       "      <td>149</td>\n",
       "      <td>PORTO ALEGRE</td>\n",
       "      <td>88399</td>\n",
       "      <td>AGESAN - AGÊNCIA REGULADORA INTERMUNICIPAL DE ...</td>\n",
       "      <td>306703</td>\n",
       "      <td>1</td>\n",
       "      <td>AGESAN-RS</td>\n",
       "      <td>1</td>\n",
       "      <td>...</td>\n",
       "      <td>0.0</td>\n",
       "      <td>0.0</td>\n",
       "      <td>0.0</td>\n",
       "      <td>0.0</td>\n",
       "      <td>1291047.08</td>\n",
       "      <td>99401.81</td>\n",
       "      <td>99401.81</td>\n",
       "      <td>0.0</td>\n",
       "      <td>0.0</td>\n",
       "      <td>0.0</td>\n",
       "    </tr>\n",
       "    <tr>\n",
       "      <th>1</th>\n",
       "      <td>2023</td>\n",
       "      <td>1</td>\n",
       "      <td>149</td>\n",
       "      <td>PORTO ALEGRE</td>\n",
       "      <td>88399</td>\n",
       "      <td>AGESAN - AGÊNCIA REGULADORA INTERMUNICIPAL DE ...</td>\n",
       "      <td>306703</td>\n",
       "      <td>1</td>\n",
       "      <td>AGESAN-RS</td>\n",
       "      <td>1</td>\n",
       "      <td>...</td>\n",
       "      <td>0.0</td>\n",
       "      <td>0.0</td>\n",
       "      <td>0.0</td>\n",
       "      <td>0.0</td>\n",
       "      <td>251900.00</td>\n",
       "      <td>30456.87</td>\n",
       "      <td>0.00</td>\n",
       "      <td>0.0</td>\n",
       "      <td>0.0</td>\n",
       "      <td>0.0</td>\n",
       "    </tr>\n",
       "    <tr>\n",
       "      <th>2</th>\n",
       "      <td>2023</td>\n",
       "      <td>1</td>\n",
       "      <td>149</td>\n",
       "      <td>PORTO ALEGRE</td>\n",
       "      <td>88399</td>\n",
       "      <td>AGESAN - AGÊNCIA REGULADORA INTERMUNICIPAL DE ...</td>\n",
       "      <td>306703</td>\n",
       "      <td>1</td>\n",
       "      <td>AGESAN-RS</td>\n",
       "      <td>1</td>\n",
       "      <td>...</td>\n",
       "      <td>0.0</td>\n",
       "      <td>0.0</td>\n",
       "      <td>0.0</td>\n",
       "      <td>0.0</td>\n",
       "      <td>0.00</td>\n",
       "      <td>0.00</td>\n",
       "      <td>0.00</td>\n",
       "      <td>0.0</td>\n",
       "      <td>0.0</td>\n",
       "      <td>0.0</td>\n",
       "    </tr>\n",
       "    <tr>\n",
       "      <th>3</th>\n",
       "      <td>2023</td>\n",
       "      <td>1</td>\n",
       "      <td>149</td>\n",
       "      <td>PORTO ALEGRE</td>\n",
       "      <td>88399</td>\n",
       "      <td>AGESAN - AGÊNCIA REGULADORA INTERMUNICIPAL DE ...</td>\n",
       "      <td>306703</td>\n",
       "      <td>1</td>\n",
       "      <td>AGESAN-RS</td>\n",
       "      <td>1</td>\n",
       "      <td>...</td>\n",
       "      <td>0.0</td>\n",
       "      <td>0.0</td>\n",
       "      <td>0.0</td>\n",
       "      <td>0.0</td>\n",
       "      <td>6206.47</td>\n",
       "      <td>6206.47</td>\n",
       "      <td>6206.47</td>\n",
       "      <td>0.0</td>\n",
       "      <td>0.0</td>\n",
       "      <td>0.0</td>\n",
       "    </tr>\n",
       "  </tbody>\n",
       "</table>\n",
       "<p>4 rows × 41 columns</p>\n",
       "</div>"
      ],
      "text/plain": [
       "    ANO  MES  COD_MUNICIPIO NOME_MUNICIPIO  CD_ORGAO  \\\n",
       "0  2023    1            149   PORTO ALEGRE     88399   \n",
       "1  2023    1            149   PORTO ALEGRE     88399   \n",
       "2  2023    1            149   PORTO ALEGRE     88399   \n",
       "3  2023    1            149   PORTO ALEGRE     88399   \n",
       "\n",
       "                                          NOME_ORGAO  CD_RECEBIMENTO  \\\n",
       "0  AGESAN - AGÊNCIA REGULADORA INTERMUNICIPAL DE ...          306703   \n",
       "1  AGESAN - AGÊNCIA REGULADORA INTERMUNICIPAL DE ...          306703   \n",
       "2  AGESAN - AGÊNCIA REGULADORA INTERMUNICIPAL DE ...          306703   \n",
       "3  AGESAN - AGÊNCIA REGULADORA INTERMUNICIPAL DE ...          306703   \n",
       "\n",
       "   CD_ORGAO_ORCAMENTARIO NOME_ORGAO_ORCAMENTARIO  CD_UNIDADE_ORCAMENTARIA  \\\n",
       "0                      1               AGESAN-RS                        1   \n",
       "1                      1               AGESAN-RS                        1   \n",
       "2                      1               AGESAN-RS                        1   \n",
       "3                      1               AGESAN-RS                        1   \n",
       "\n",
       "   ... VL_REDUCAO_RECURSO VL_TRANSFERENCIA  VL_TRANSPOSICAO VL_REMANEJAMENTO  \\\n",
       "0  ...                0.0              0.0              0.0              0.0   \n",
       "1  ...                0.0              0.0              0.0              0.0   \n",
       "2  ...                0.0              0.0              0.0              0.0   \n",
       "3  ...                0.0              0.0              0.0              0.0   \n",
       "\n",
       "   VL_EMPENHADO VL_LIQUIDADO   VL_PAGO VL_LIMITADO  VL_RECOMPOSICAO  \\\n",
       "0    1291047.08     99401.81  99401.81         0.0              0.0   \n",
       "1     251900.00     30456.87      0.00         0.0              0.0   \n",
       "2          0.00         0.00      0.00         0.0              0.0   \n",
       "3       6206.47      6206.47   6206.47         0.0              0.0   \n",
       "\n",
       "  VL_PREVISAO_EXECUCAO  \n",
       "0                  0.0  \n",
       "1                  0.0  \n",
       "2                  0.0  \n",
       "3                  0.0  \n",
       "\n",
       "[4 rows x 41 columns]"
      ]
     },
     "execution_count": 7,
     "metadata": {},
     "output_type": "execute_result"
    }
   ],
   "source": [
    "dados.head(4)"
   ]
  },
  {
   "cell_type": "code",
   "execution_count": 9,
   "id": "ff191b29-eff3-47c1-92ec-efa2b81ed8c7",
   "metadata": {},
   "outputs": [
    {
     "data": {
      "text/plain": [
       "pandas.core.frame.DataFrame"
      ]
     },
     "execution_count": 9,
     "metadata": {},
     "output_type": "execute_result"
    }
   ],
   "source": [
    "type(dados)"
   ]
  },
  {
   "cell_type": "code",
   "execution_count": 10,
   "id": "00d0e48e-0332-41f9-8cf6-b03266a78923",
   "metadata": {},
   "outputs": [
    {
     "data": {
      "text/plain": [
       "0         2023\n",
       "1         2023\n",
       "2         2023\n",
       "3         2023\n",
       "4         2023\n",
       "          ... \n",
       "427623    2023\n",
       "427624    2023\n",
       "427625    2023\n",
       "427626    2023\n",
       "427627    2023\n",
       "Name: ANO, Length: 427628, dtype: int64"
      ]
     },
     "execution_count": 10,
     "metadata": {},
     "output_type": "execute_result"
    }
   ],
   "source": [
    "dados[\"ANO\"]"
   ]
  },
  {
   "cell_type": "code",
   "execution_count": 11,
   "id": "84a63c47-8ea7-4b31-a913-65995d79d77b",
   "metadata": {},
   "outputs": [
    {
     "data": {
      "text/plain": [
       "0    2023\n",
       "1    2023\n",
       "2    2023\n",
       "3    2023\n",
       "Name: ANO, dtype: int64"
      ]
     },
     "execution_count": 11,
     "metadata": {},
     "output_type": "execute_result"
    }
   ],
   "source": [
    "ANO = dados[\"ANO\"]\n",
    "ANO.head(4)"
   ]
  },
  {
   "cell_type": "code",
   "execution_count": 12,
   "id": "3c321509-4ada-47ba-b5f8-d636c9f0d4a5",
   "metadata": {},
   "outputs": [
    {
     "data": {
      "text/plain": [
       "pandas.core.series.Series"
      ]
     },
     "execution_count": 12,
     "metadata": {},
     "output_type": "execute_result"
    }
   ],
   "source": [
    "type(ANO)"
   ]
  },
  {
   "cell_type": "code",
   "execution_count": 27,
   "id": "cc334b79-72d8-44d2-9096-48e4b61fc937",
   "metadata": {},
   "outputs": [],
   "source": [
    "# Função para consumo da API do TCE-RS\n",
    "\n",
    "import numpy as np\n",
    "import pandas as pd\n",
    "\n",
    "# Requisito RU1\n",
    "\n",
    "def leitor_dados(arquivo: str) -> pd.DataFrame:\n",
    "    return pd.read_csv(arquivo)\n"
   ]
  },
  {
   "cell_type": "code",
   "execution_count": 14,
   "id": "731014a6-4c34-41dc-b794-5b577743adcf",
   "metadata": {},
   "outputs": [],
   "source": [
    "dados = leitor_dados(url)"
   ]
  },
  {
   "cell_type": "code",
   "execution_count": 15,
   "id": "61ccc0e2-715f-4d79-8e3f-c8c36437b862",
   "metadata": {},
   "outputs": [
    {
     "data": {
      "text/html": [
       "<div>\n",
       "<style scoped>\n",
       "    .dataframe tbody tr th:only-of-type {\n",
       "        vertical-align: middle;\n",
       "    }\n",
       "\n",
       "    .dataframe tbody tr th {\n",
       "        vertical-align: top;\n",
       "    }\n",
       "\n",
       "    .dataframe thead th {\n",
       "        text-align: right;\n",
       "    }\n",
       "</style>\n",
       "<table border=\"1\" class=\"dataframe\">\n",
       "  <thead>\n",
       "    <tr style=\"text-align: right;\">\n",
       "      <th></th>\n",
       "      <th>ANO</th>\n",
       "      <th>MES</th>\n",
       "      <th>COD_MUNICIPIO</th>\n",
       "      <th>NOME_MUNICIPIO</th>\n",
       "      <th>CD_ORGAO</th>\n",
       "      <th>NOME_ORGAO</th>\n",
       "      <th>CD_RECEBIMENTO</th>\n",
       "      <th>CD_ORGAO_ORCAMENTARIO</th>\n",
       "      <th>NOME_ORGAO_ORCAMENTARIO</th>\n",
       "      <th>CD_UNIDADE_ORCAMENTARIA</th>\n",
       "      <th>...</th>\n",
       "      <th>VL_REDUCAO_RECURSO</th>\n",
       "      <th>VL_TRANSFERENCIA</th>\n",
       "      <th>VL_TRANSPOSICAO</th>\n",
       "      <th>VL_REMANEJAMENTO</th>\n",
       "      <th>VL_EMPENHADO</th>\n",
       "      <th>VL_LIQUIDADO</th>\n",
       "      <th>VL_PAGO</th>\n",
       "      <th>VL_LIMITADO</th>\n",
       "      <th>VL_RECOMPOSICAO</th>\n",
       "      <th>VL_PREVISAO_EXECUCAO</th>\n",
       "    </tr>\n",
       "  </thead>\n",
       "  <tbody>\n",
       "    <tr>\n",
       "      <th>0</th>\n",
       "      <td>2023</td>\n",
       "      <td>1</td>\n",
       "      <td>149</td>\n",
       "      <td>PORTO ALEGRE</td>\n",
       "      <td>88399</td>\n",
       "      <td>AGESAN - AGÊNCIA REGULADORA INTERMUNICIPAL DE ...</td>\n",
       "      <td>306703</td>\n",
       "      <td>1</td>\n",
       "      <td>AGESAN-RS</td>\n",
       "      <td>1</td>\n",
       "      <td>...</td>\n",
       "      <td>0.0</td>\n",
       "      <td>0.0</td>\n",
       "      <td>0.0</td>\n",
       "      <td>0.0</td>\n",
       "      <td>1291047.08</td>\n",
       "      <td>99401.81</td>\n",
       "      <td>99401.81</td>\n",
       "      <td>0.0</td>\n",
       "      <td>0.0</td>\n",
       "      <td>0.0</td>\n",
       "    </tr>\n",
       "    <tr>\n",
       "      <th>1</th>\n",
       "      <td>2023</td>\n",
       "      <td>1</td>\n",
       "      <td>149</td>\n",
       "      <td>PORTO ALEGRE</td>\n",
       "      <td>88399</td>\n",
       "      <td>AGESAN - AGÊNCIA REGULADORA INTERMUNICIPAL DE ...</td>\n",
       "      <td>306703</td>\n",
       "      <td>1</td>\n",
       "      <td>AGESAN-RS</td>\n",
       "      <td>1</td>\n",
       "      <td>...</td>\n",
       "      <td>0.0</td>\n",
       "      <td>0.0</td>\n",
       "      <td>0.0</td>\n",
       "      <td>0.0</td>\n",
       "      <td>251900.00</td>\n",
       "      <td>30456.87</td>\n",
       "      <td>0.00</td>\n",
       "      <td>0.0</td>\n",
       "      <td>0.0</td>\n",
       "      <td>0.0</td>\n",
       "    </tr>\n",
       "    <tr>\n",
       "      <th>2</th>\n",
       "      <td>2023</td>\n",
       "      <td>1</td>\n",
       "      <td>149</td>\n",
       "      <td>PORTO ALEGRE</td>\n",
       "      <td>88399</td>\n",
       "      <td>AGESAN - AGÊNCIA REGULADORA INTERMUNICIPAL DE ...</td>\n",
       "      <td>306703</td>\n",
       "      <td>1</td>\n",
       "      <td>AGESAN-RS</td>\n",
       "      <td>1</td>\n",
       "      <td>...</td>\n",
       "      <td>0.0</td>\n",
       "      <td>0.0</td>\n",
       "      <td>0.0</td>\n",
       "      <td>0.0</td>\n",
       "      <td>0.00</td>\n",
       "      <td>0.00</td>\n",
       "      <td>0.00</td>\n",
       "      <td>0.0</td>\n",
       "      <td>0.0</td>\n",
       "      <td>0.0</td>\n",
       "    </tr>\n",
       "    <tr>\n",
       "      <th>3</th>\n",
       "      <td>2023</td>\n",
       "      <td>1</td>\n",
       "      <td>149</td>\n",
       "      <td>PORTO ALEGRE</td>\n",
       "      <td>88399</td>\n",
       "      <td>AGESAN - AGÊNCIA REGULADORA INTERMUNICIPAL DE ...</td>\n",
       "      <td>306703</td>\n",
       "      <td>1</td>\n",
       "      <td>AGESAN-RS</td>\n",
       "      <td>1</td>\n",
       "      <td>...</td>\n",
       "      <td>0.0</td>\n",
       "      <td>0.0</td>\n",
       "      <td>0.0</td>\n",
       "      <td>0.0</td>\n",
       "      <td>6206.47</td>\n",
       "      <td>6206.47</td>\n",
       "      <td>6206.47</td>\n",
       "      <td>0.0</td>\n",
       "      <td>0.0</td>\n",
       "      <td>0.0</td>\n",
       "    </tr>\n",
       "    <tr>\n",
       "      <th>4</th>\n",
       "      <td>2023</td>\n",
       "      <td>1</td>\n",
       "      <td>149</td>\n",
       "      <td>PORTO ALEGRE</td>\n",
       "      <td>88399</td>\n",
       "      <td>AGESAN - AGÊNCIA REGULADORA INTERMUNICIPAL DE ...</td>\n",
       "      <td>306703</td>\n",
       "      <td>1</td>\n",
       "      <td>AGESAN-RS</td>\n",
       "      <td>1</td>\n",
       "      <td>...</td>\n",
       "      <td>0.0</td>\n",
       "      <td>0.0</td>\n",
       "      <td>0.0</td>\n",
       "      <td>0.0</td>\n",
       "      <td>1239.00</td>\n",
       "      <td>1239.00</td>\n",
       "      <td>1239.00</td>\n",
       "      <td>0.0</td>\n",
       "      <td>0.0</td>\n",
       "      <td>0.0</td>\n",
       "    </tr>\n",
       "  </tbody>\n",
       "</table>\n",
       "<p>5 rows × 41 columns</p>\n",
       "</div>"
      ],
      "text/plain": [
       "    ANO  MES  COD_MUNICIPIO NOME_MUNICIPIO  CD_ORGAO  \\\n",
       "0  2023    1            149   PORTO ALEGRE     88399   \n",
       "1  2023    1            149   PORTO ALEGRE     88399   \n",
       "2  2023    1            149   PORTO ALEGRE     88399   \n",
       "3  2023    1            149   PORTO ALEGRE     88399   \n",
       "4  2023    1            149   PORTO ALEGRE     88399   \n",
       "\n",
       "                                          NOME_ORGAO  CD_RECEBIMENTO  \\\n",
       "0  AGESAN - AGÊNCIA REGULADORA INTERMUNICIPAL DE ...          306703   \n",
       "1  AGESAN - AGÊNCIA REGULADORA INTERMUNICIPAL DE ...          306703   \n",
       "2  AGESAN - AGÊNCIA REGULADORA INTERMUNICIPAL DE ...          306703   \n",
       "3  AGESAN - AGÊNCIA REGULADORA INTERMUNICIPAL DE ...          306703   \n",
       "4  AGESAN - AGÊNCIA REGULADORA INTERMUNICIPAL DE ...          306703   \n",
       "\n",
       "   CD_ORGAO_ORCAMENTARIO NOME_ORGAO_ORCAMENTARIO  CD_UNIDADE_ORCAMENTARIA  \\\n",
       "0                      1               AGESAN-RS                        1   \n",
       "1                      1               AGESAN-RS                        1   \n",
       "2                      1               AGESAN-RS                        1   \n",
       "3                      1               AGESAN-RS                        1   \n",
       "4                      1               AGESAN-RS                        1   \n",
       "\n",
       "   ... VL_REDUCAO_RECURSO VL_TRANSFERENCIA  VL_TRANSPOSICAO VL_REMANEJAMENTO  \\\n",
       "0  ...                0.0              0.0              0.0              0.0   \n",
       "1  ...                0.0              0.0              0.0              0.0   \n",
       "2  ...                0.0              0.0              0.0              0.0   \n",
       "3  ...                0.0              0.0              0.0              0.0   \n",
       "4  ...                0.0              0.0              0.0              0.0   \n",
       "\n",
       "   VL_EMPENHADO VL_LIQUIDADO   VL_PAGO VL_LIMITADO  VL_RECOMPOSICAO  \\\n",
       "0    1291047.08     99401.81  99401.81         0.0              0.0   \n",
       "1     251900.00     30456.87      0.00         0.0              0.0   \n",
       "2          0.00         0.00      0.00         0.0              0.0   \n",
       "3       6206.47      6206.47   6206.47         0.0              0.0   \n",
       "4       1239.00      1239.00   1239.00         0.0              0.0   \n",
       "\n",
       "  VL_PREVISAO_EXECUCAO  \n",
       "0                  0.0  \n",
       "1                  0.0  \n",
       "2                  0.0  \n",
       "3                  0.0  \n",
       "4                  0.0  \n",
       "\n",
       "[5 rows x 41 columns]"
      ]
     },
     "execution_count": 15,
     "metadata": {},
     "output_type": "execute_result"
    }
   ],
   "source": [
    "dados.head()"
   ]
  },
  {
   "cell_type": "markdown",
   "id": "e9ff05ae-abad-4c39-a1d8-190ef51d9057",
   "metadata": {},
   "source": [
    "## Requisito 2 (RU2) - Plotar o gráfico dos dados\n",
    "\n",
    "A aplicação deverá coletar dados em formato CSV da Internet ou do disco."
   ]
  },
  {
   "cell_type": "code",
   "execution_count": 19,
   "id": "3f3a40e7-f223-42e6-9b07-cb252c4d3ab6",
   "metadata": {},
   "outputs": [
    {
     "name": "stderr",
     "output_type": "stream",
     "text": [
      "Matplotlib is building the font cache; this may take a moment.\n"
     ]
    }
   ],
   "source": [
    "import numpy as np\n",
    "import matplotlib as mpl\n",
    "import matplotlib.pyplot as plt\n",
    "import pandas as pd\n",
    "\n",
    "def plotador(dados: pd.DataFrame) -> None:\n",
    "    pass\n"
   ]
  },
  {
   "cell_type": "code",
   "execution_count": 20,
   "id": "8fc06ce9-575a-4178-9157-dc4ecb478b31",
   "metadata": {},
   "outputs": [
    {
     "data": {
      "text/plain": [
       "Index(['ANO', 'MES', 'COD_MUNICIPIO', 'NOME_MUNICIPIO', 'CD_ORGAO',\n",
       "       'NOME_ORGAO', 'CD_RECEBIMENTO', 'CD_ORGAO_ORCAMENTARIO',\n",
       "       'NOME_ORGAO_ORCAMENTARIO', 'CD_UNIDADE_ORCAMENTARIA', 'NOME_UNIDADE',\n",
       "       'TP_UNIDADE', 'CD_FUNCAO', 'DS_FUNCAO', 'CD_SUBFUNCAO', 'DS_SUBFUNCAO',\n",
       "       'CD_PROGRAMA', 'DS_PROGRAMA', 'CD_PROJETO', 'NM_PROJETO', 'CD_ELEMENTO',\n",
       "       'CD_RECURSO', 'NM_RECURSO', 'CD_FONTE_RECURSO', 'VL_DOTACAO_INICIAL',\n",
       "       'VL_ATUALIZACAO_MONETARIA', 'VL_CREDITOS_SUPLEMENTARES',\n",
       "       'VL_CREDITOS_ESPECIAIS', 'VL_CREDITOS_EXTRAORDINARIOS',\n",
       "       'VL_REDUCAO_DOTACAO', 'VL_SUPLEMENTACAO_RECURSO', 'VL_REDUCAO_RECURSO',\n",
       "       'VL_TRANSFERENCIA', 'VL_TRANSPOSICAO', 'VL_REMANEJAMENTO',\n",
       "       'VL_EMPENHADO', 'VL_LIQUIDADO', 'VL_PAGO', 'VL_LIMITADO',\n",
       "       'VL_RECOMPOSICAO', 'VL_PREVISAO_EXECUCAO'],\n",
       "      dtype='object')"
      ]
     },
     "execution_count": 20,
     "metadata": {},
     "output_type": "execute_result"
    }
   ],
   "source": [
    "dados.columns"
   ]
  },
  {
   "cell_type": "code",
   "execution_count": 21,
   "id": "4c0724f3-3e9c-402e-b0a4-fc92ec4dac0d",
   "metadata": {},
   "outputs": [
    {
     "ename": "AttributeError",
     "evalue": "'DataFrame' object has no attribute 'ano'",
     "output_type": "error",
     "traceback": [
      "\u001b[1;31m---------------------------------------------------------------------------\u001b[0m",
      "\u001b[1;31mAttributeError\u001b[0m                            Traceback (most recent call last)",
      "Cell \u001b[1;32mIn[21], line 1\u001b[0m\n\u001b[1;32m----> 1\u001b[0m ano \u001b[38;5;241m=\u001b[39m \u001b[43mdados\u001b[49m\u001b[38;5;241;43m.\u001b[39;49m\u001b[43mano\u001b[49m\n",
      "File \u001b[1;32m~\\anaconda3\\lib\\site-packages\\pandas\\core\\generic.py:5902\u001b[0m, in \u001b[0;36mNDFrame.__getattr__\u001b[1;34m(self, name)\u001b[0m\n\u001b[0;32m   5895\u001b[0m \u001b[38;5;28;01mif\u001b[39;00m (\n\u001b[0;32m   5896\u001b[0m     name \u001b[38;5;129;01mnot\u001b[39;00m \u001b[38;5;129;01min\u001b[39;00m \u001b[38;5;28mself\u001b[39m\u001b[38;5;241m.\u001b[39m_internal_names_set\n\u001b[0;32m   5897\u001b[0m     \u001b[38;5;129;01mand\u001b[39;00m name \u001b[38;5;129;01mnot\u001b[39;00m \u001b[38;5;129;01min\u001b[39;00m \u001b[38;5;28mself\u001b[39m\u001b[38;5;241m.\u001b[39m_metadata\n\u001b[0;32m   5898\u001b[0m     \u001b[38;5;129;01mand\u001b[39;00m name \u001b[38;5;129;01mnot\u001b[39;00m \u001b[38;5;129;01min\u001b[39;00m \u001b[38;5;28mself\u001b[39m\u001b[38;5;241m.\u001b[39m_accessors\n\u001b[0;32m   5899\u001b[0m     \u001b[38;5;129;01mand\u001b[39;00m \u001b[38;5;28mself\u001b[39m\u001b[38;5;241m.\u001b[39m_info_axis\u001b[38;5;241m.\u001b[39m_can_hold_identifiers_and_holds_name(name)\n\u001b[0;32m   5900\u001b[0m ):\n\u001b[0;32m   5901\u001b[0m     \u001b[38;5;28;01mreturn\u001b[39;00m \u001b[38;5;28mself\u001b[39m[name]\n\u001b[1;32m-> 5902\u001b[0m \u001b[38;5;28;01mreturn\u001b[39;00m \u001b[38;5;28;43mobject\u001b[39;49m\u001b[38;5;241;43m.\u001b[39;49m\u001b[38;5;21;43m__getattribute__\u001b[39;49m\u001b[43m(\u001b[49m\u001b[38;5;28;43mself\u001b[39;49m\u001b[43m,\u001b[49m\u001b[43m \u001b[49m\u001b[43mname\u001b[49m\u001b[43m)\u001b[49m\n",
      "\u001b[1;31mAttributeError\u001b[0m: 'DataFrame' object has no attribute 'ano'"
     ]
    }
   ],
   "source": [
    "ano = dados.ano"
   ]
  },
  {
   "cell_type": "code",
   "execution_count": 22,
   "id": "03079a2f-f702-435f-b46b-aa701ca3f4fd",
   "metadata": {},
   "outputs": [],
   "source": [
    "ano = dados[\"ANO\"]"
   ]
  },
  {
   "cell_type": "code",
   "execution_count": 23,
   "id": "ea8bdac8-34e0-4f3f-9b32-c41bdf21261e",
   "metadata": {},
   "outputs": [
    {
     "data": {
      "text/plain": [
       "<Axes: >"
      ]
     },
     "execution_count": 23,
     "metadata": {},
     "output_type": "execute_result"
    },
    {
     "data": {
      "image/png": "[encoded data removed]",
      "text/plain": [
       "<Figure size 640x480 with 1 Axes>"
      ]
     },
     "metadata": {},
     "output_type": "display_data"
    }
   ],
   "source": [
    "ano.plot()"
   ]
  },
  {
   "cell_type": "code",
   "execution_count": 25,
   "id": "0a886f36-417e-4e5a-8ef3-0e1bda58f0c9",
   "metadata": {},
   "outputs": [
    {
     "data": {
      "text/html": [
       "<div>\n",
       "<style scoped>\n",
       "    .dataframe tbody tr th:only-of-type {\n",
       "        vertical-align: middle;\n",
       "    }\n",
       "\n",
       "    .dataframe tbody tr th {\n",
       "        vertical-align: top;\n",
       "    }\n",
       "\n",
       "    .dataframe thead th {\n",
       "        text-align: right;\n",
       "    }\n",
       "</style>\n",
       "<table border=\"1\" class=\"dataframe\">\n",
       "  <thead>\n",
       "    <tr style=\"text-align: right;\">\n",
       "      <th></th>\n",
       "      <th>ANO</th>\n",
       "      <th>MES</th>\n",
       "      <th>COD_MUNICIPIO</th>\n",
       "      <th>NOME_MUNICIPIO</th>\n",
       "      <th>CD_ORGAO</th>\n",
       "      <th>NOME_ORGAO</th>\n",
       "      <th>CD_RECEBIMENTO</th>\n",
       "      <th>CD_ORGAO_ORCAMENTARIO</th>\n",
       "      <th>NOME_ORGAO_ORCAMENTARIO</th>\n",
       "      <th>CD_UNIDADE_ORCAMENTARIA</th>\n",
       "      <th>...</th>\n",
       "      <th>VL_REDUCAO_RECURSO</th>\n",
       "      <th>VL_TRANSFERENCIA</th>\n",
       "      <th>VL_TRANSPOSICAO</th>\n",
       "      <th>VL_REMANEJAMENTO</th>\n",
       "      <th>VL_EMPENHADO</th>\n",
       "      <th>VL_LIQUIDADO</th>\n",
       "      <th>VL_PAGO</th>\n",
       "      <th>VL_LIMITADO</th>\n",
       "      <th>VL_RECOMPOSICAO</th>\n",
       "      <th>VL_PREVISAO_EXECUCAO</th>\n",
       "    </tr>\n",
       "  </thead>\n",
       "  <tbody>\n",
       "    <tr>\n",
       "      <th>0</th>\n",
       "      <td>2023</td>\n",
       "      <td>1</td>\n",
       "      <td>149</td>\n",
       "      <td>PORTO ALEGRE</td>\n",
       "      <td>88399</td>\n",
       "      <td>AGESAN - AGÊNCIA REGULADORA INTERMUNICIPAL DE ...</td>\n",
       "      <td>306703</td>\n",
       "      <td>1</td>\n",
       "      <td>AGESAN-RS</td>\n",
       "      <td>1</td>\n",
       "      <td>...</td>\n",
       "      <td>0.0</td>\n",
       "      <td>0.0</td>\n",
       "      <td>0.0</td>\n",
       "      <td>0.0</td>\n",
       "      <td>1291047.08</td>\n",
       "      <td>99401.81</td>\n",
       "      <td>99401.81</td>\n",
       "      <td>0.0</td>\n",
       "      <td>0.0</td>\n",
       "      <td>0.0</td>\n",
       "    </tr>\n",
       "    <tr>\n",
       "      <th>1</th>\n",
       "      <td>2023</td>\n",
       "      <td>1</td>\n",
       "      <td>149</td>\n",
       "      <td>PORTO ALEGRE</td>\n",
       "      <td>88399</td>\n",
       "      <td>AGESAN - AGÊNCIA REGULADORA INTERMUNICIPAL DE ...</td>\n",
       "      <td>306703</td>\n",
       "      <td>1</td>\n",
       "      <td>AGESAN-RS</td>\n",
       "      <td>1</td>\n",
       "      <td>...</td>\n",
       "      <td>0.0</td>\n",
       "      <td>0.0</td>\n",
       "      <td>0.0</td>\n",
       "      <td>0.0</td>\n",
       "      <td>251900.00</td>\n",
       "      <td>30456.87</td>\n",
       "      <td>0.00</td>\n",
       "      <td>0.0</td>\n",
       "      <td>0.0</td>\n",
       "      <td>0.0</td>\n",
       "    </tr>\n",
       "  </tbody>\n",
       "</table>\n",
       "<p>2 rows × 41 columns</p>\n",
       "</div>"
      ],
      "text/plain": [
       "    ANO  MES  COD_MUNICIPIO NOME_MUNICIPIO  CD_ORGAO  \\\n",
       "0  2023    1            149   PORTO ALEGRE     88399   \n",
       "1  2023    1            149   PORTO ALEGRE     88399   \n",
       "\n",
       "                                          NOME_ORGAO  CD_RECEBIMENTO  \\\n",
       "0  AGESAN - AGÊNCIA REGULADORA INTERMUNICIPAL DE ...          306703   \n",
       "1  AGESAN - AGÊNCIA REGULADORA INTERMUNICIPAL DE ...          306703   \n",
       "\n",
       "   CD_ORGAO_ORCAMENTARIO NOME_ORGAO_ORCAMENTARIO  CD_UNIDADE_ORCAMENTARIA  \\\n",
       "0                      1               AGESAN-RS                        1   \n",
       "1                      1               AGESAN-RS                        1   \n",
       "\n",
       "   ... VL_REDUCAO_RECURSO VL_TRANSFERENCIA  VL_TRANSPOSICAO VL_REMANEJAMENTO  \\\n",
       "0  ...                0.0              0.0              0.0              0.0   \n",
       "1  ...                0.0              0.0              0.0              0.0   \n",
       "\n",
       "   VL_EMPENHADO VL_LIQUIDADO   VL_PAGO VL_LIMITADO  VL_RECOMPOSICAO  \\\n",
       "0    1291047.08     99401.81  99401.81         0.0              0.0   \n",
       "1     251900.00     30456.87      0.00         0.0              0.0   \n",
       "\n",
       "  VL_PREVISAO_EXECUCAO  \n",
       "0                  0.0  \n",
       "1                  0.0  \n",
       "\n",
       "[2 rows x 41 columns]"
      ]
     },
     "execution_count": 25,
     "metadata": {},
     "output_type": "execute_result"
    }
   ],
   "source": [
    "dados.head(2)"
   ]
  },
  {
   "cell_type": "code",
   "execution_count": 26,
   "id": "cc59a7ff-2eb4-483e-81d8-eda5cfbce362",
   "metadata": {},
   "outputs": [
    {
     "data": {
      "text/plain": [
       "<Axes: >"
      ]
     },
     "execution_count": 26,
     "metadata": {},
     "output_type": "execute_result"
    },
    {
     "data": {
      "image/png": "[encoded data removed]",
      "text/plain": [
       "<Figure size 640x480 with 1 Axes>"
      ]
     },
     "metadata": {},
     "output_type": "display_data"
    }
   ],
   "source": [
    "dados.plot()"
   ]
  },
  {
   "cell_type": "code",
   "execution_count": 33,
   "id": "bd4b96b7-9b49-473b-a4fc-5a2bfdb64e04",
   "metadata": {},
   "outputs": [
    {
     "ename": "KeyError",
     "evalue": "False",
     "output_type": "error",
     "traceback": [
      "\u001b[1;31m---------------------------------------------------------------------------\u001b[0m",
      "\u001b[1;31mKeyError\u001b[0m                                  Traceback (most recent call last)",
      "File \u001b[1;32m~\\anaconda3\\lib\\site-packages\\pandas\\core\\indexes\\base.py:3802\u001b[0m, in \u001b[0;36mIndex.get_loc\u001b[1;34m(self, key, method, tolerance)\u001b[0m\n\u001b[0;32m   3801\u001b[0m \u001b[38;5;28;01mtry\u001b[39;00m:\n\u001b[1;32m-> 3802\u001b[0m     \u001b[38;5;28;01mreturn\u001b[39;00m \u001b[38;5;28;43mself\u001b[39;49m\u001b[38;5;241;43m.\u001b[39;49m\u001b[43m_engine\u001b[49m\u001b[38;5;241;43m.\u001b[39;49m\u001b[43mget_loc\u001b[49m\u001b[43m(\u001b[49m\u001b[43mcasted_key\u001b[49m\u001b[43m)\u001b[49m\n\u001b[0;32m   3803\u001b[0m \u001b[38;5;28;01mexcept\u001b[39;00m \u001b[38;5;167;01mKeyError\u001b[39;00m \u001b[38;5;28;01mas\u001b[39;00m err:\n",
      "File \u001b[1;32m~\\anaconda3\\lib\\site-packages\\pandas\\_libs\\index.pyx:138\u001b[0m, in \u001b[0;36mpandas._libs.index.IndexEngine.get_loc\u001b[1;34m()\u001b[0m\n",
      "File \u001b[1;32m~\\anaconda3\\lib\\site-packages\\pandas\\_libs\\index.pyx:165\u001b[0m, in \u001b[0;36mpandas._libs.index.IndexEngine.get_loc\u001b[1;34m()\u001b[0m\n",
      "File \u001b[1;32mpandas\\_libs\\hashtable_class_helper.pxi:5745\u001b[0m, in \u001b[0;36mpandas._libs.hashtable.PyObjectHashTable.get_item\u001b[1;34m()\u001b[0m\n",
      "File \u001b[1;32mpandas\\_libs\\hashtable_class_helper.pxi:5753\u001b[0m, in \u001b[0;36mpandas._libs.hashtable.PyObjectHashTable.get_item\u001b[1;34m()\u001b[0m\n",
      "\u001b[1;31mKeyError\u001b[0m: False",
      "\nThe above exception was the direct cause of the following exception:\n",
      "\u001b[1;31mKeyError\u001b[0m                                  Traceback (most recent call last)",
      "Cell \u001b[1;32mIn[33], line 1\u001b[0m\n\u001b[1;32m----> 1\u001b[0m desp_porto_alegre \u001b[38;5;241m=\u001b[39m dados[\u001b[43mdados\u001b[49m\u001b[43m[\u001b[49m\u001b[38;5;124;43m'\u001b[39;49m\u001b[38;5;124;43mANO\u001b[39;49m\u001b[38;5;124;43m'\u001b[39;49m\u001b[43m \u001b[49m\u001b[38;5;241;43m==\u001b[39;49m\u001b[43m \u001b[49m\u001b[38;5;241;43m2023\u001b[39;49m\u001b[43m]\u001b[49m]\u001b[38;5;241m.\u001b[39msum(axis \u001b[38;5;241m=\u001b[39m \u001b[38;5;124m'\u001b[39m\u001b[38;5;124mcolumns\u001b[39m\u001b[38;5;124m'\u001b[39m)\n",
      "File \u001b[1;32m~\\anaconda3\\lib\\site-packages\\pandas\\core\\frame.py:3807\u001b[0m, in \u001b[0;36mDataFrame.__getitem__\u001b[1;34m(self, key)\u001b[0m\n\u001b[0;32m   3805\u001b[0m \u001b[38;5;28;01mif\u001b[39;00m \u001b[38;5;28mself\u001b[39m\u001b[38;5;241m.\u001b[39mcolumns\u001b[38;5;241m.\u001b[39mnlevels \u001b[38;5;241m>\u001b[39m \u001b[38;5;241m1\u001b[39m:\n\u001b[0;32m   3806\u001b[0m     \u001b[38;5;28;01mreturn\u001b[39;00m \u001b[38;5;28mself\u001b[39m\u001b[38;5;241m.\u001b[39m_getitem_multilevel(key)\n\u001b[1;32m-> 3807\u001b[0m indexer \u001b[38;5;241m=\u001b[39m \u001b[38;5;28;43mself\u001b[39;49m\u001b[38;5;241;43m.\u001b[39;49m\u001b[43mcolumns\u001b[49m\u001b[38;5;241;43m.\u001b[39;49m\u001b[43mget_loc\u001b[49m\u001b[43m(\u001b[49m\u001b[43mkey\u001b[49m\u001b[43m)\u001b[49m\n\u001b[0;32m   3808\u001b[0m \u001b[38;5;28;01mif\u001b[39;00m is_integer(indexer):\n\u001b[0;32m   3809\u001b[0m     indexer \u001b[38;5;241m=\u001b[39m [indexer]\n",
      "File \u001b[1;32m~\\anaconda3\\lib\\site-packages\\pandas\\core\\indexes\\base.py:3804\u001b[0m, in \u001b[0;36mIndex.get_loc\u001b[1;34m(self, key, method, tolerance)\u001b[0m\n\u001b[0;32m   3802\u001b[0m     \u001b[38;5;28;01mreturn\u001b[39;00m \u001b[38;5;28mself\u001b[39m\u001b[38;5;241m.\u001b[39m_engine\u001b[38;5;241m.\u001b[39mget_loc(casted_key)\n\u001b[0;32m   3803\u001b[0m \u001b[38;5;28;01mexcept\u001b[39;00m \u001b[38;5;167;01mKeyError\u001b[39;00m \u001b[38;5;28;01mas\u001b[39;00m err:\n\u001b[1;32m-> 3804\u001b[0m     \u001b[38;5;28;01mraise\u001b[39;00m \u001b[38;5;167;01mKeyError\u001b[39;00m(key) \u001b[38;5;28;01mfrom\u001b[39;00m \u001b[38;5;21;01merr\u001b[39;00m\n\u001b[0;32m   3805\u001b[0m \u001b[38;5;28;01mexcept\u001b[39;00m \u001b[38;5;167;01mTypeError\u001b[39;00m:\n\u001b[0;32m   3806\u001b[0m     \u001b[38;5;66;03m# If we have a listlike key, _check_indexing_error will raise\u001b[39;00m\n\u001b[0;32m   3807\u001b[0m     \u001b[38;5;66;03m#  InvalidIndexError. Otherwise we fall through and re-raise\u001b[39;00m\n\u001b[0;32m   3808\u001b[0m     \u001b[38;5;66;03m#  the TypeError.\u001b[39;00m\n\u001b[0;32m   3809\u001b[0m     \u001b[38;5;28mself\u001b[39m\u001b[38;5;241m.\u001b[39m_check_indexing_error(key)\n",
      "\u001b[1;31mKeyError\u001b[0m: False"
     ]
    }
   ],
   "source": [
    "desp_porto_alegre = dados[dados['ANO' == 2023]].sum(axis = 'columns')"
   ]
  },
  {
   "cell_type": "code",
   "execution_count": null,
   "id": "5e663aa5-6f27-43b5-b3fa-d0ebda491d08",
   "metadata": {},
   "outputs": [],
   "source": []
  }
 ],
 "metadata": {
  "kernelspec": {
   "display_name": "Python 3 (ipykernel)",
   "language": "python",
   "name": "python3"
  },
  "language_info": {
   "codemirror_mode": {
    "name": "ipython",
    "version": 3
   },
   "file_extension": ".py",
   "mimetype": "text/x-python",
   "name": "python",
   "nbconvert_exporter": "python",
   "pygments_lexer": "ipython3",
   "version": "3.10.9"
  }
 },
 "nbformat": 4,
 "nbformat_minor": 5
}
